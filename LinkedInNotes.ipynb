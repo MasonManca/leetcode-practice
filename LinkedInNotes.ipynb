{
 "cells": [
  {
   "cell_type": "markdown",
   "metadata": {},
   "source": [
    "* New photo\n",
    "* Not clear what job you want? \n",
    "  * Write in such a way to clarify industry\n",
    "\n",
    "* Include Frontend portfolio \n",
    "* About me:\n",
    "  * Summary\n",
    "  * Strengths intrerests\n",
    "  * Links \n",
    "\n",
    "- Machine Learning and Data Science\n",
    "  - More Bullets less words\n",
    "- Recruiters are familiar in the industry but not coders\n",
    "  - More ML \n",
    "  - New picture, (CPSC?) Not a gonzaga student\n",
    "\n",
    "* What does the company do/ purpose of project\n",
    "* change background photo to not be a specific location"
   ]
  },
  {
   "cell_type": "markdown",
   "metadata": {},
   "source": [
    "1. Github? \n",
    "1. Add academic achievements ex: deans list, bilingual certification\n",
    "1. 223 data strucure projects?\n",
    "   1. 222 data science projects\n",
    "2. Add Pangeon to Experience"
   ]
  },
  {
   "cell_type": "markdown",
   "metadata": {},
   "source": [
    "## Kaila Meeting: \n",
    "\n",
    "#### Previous Work Experience\n",
    "Projects: \n",
    "1) Research Project with professor doing research into AI chatbots, improving them for students by providing more detailed responses for coding questions. ex: provides data types, libraries/modules used. Also evaluated various chatbots like bard (now gemini), chatgpt, bing. didn't code too much for the project joined pretty late.\n",
    "2) Pangeon Real Estate Price predictor. GIS, mapboxgl, uberh3 libraries. Front end development gig. Also uses machine learning prediction models, can't elaborate too much due to NDA. \n",
    "3) machine learning. 10 basic projects which do data analysis and machine learning predictions. \n",
    "   "
   ]
  },
  {
   "cell_type": "markdown",
   "metadata": {},
   "source": [
    "### Potential questions:    \n",
    "* Where should I include my resume on my linkedin? I used to have it in the featured section as a link, but Dad disliked how it 'kept popping up on his screen'. \n",
    "* Is Github Valuable, is anyone going to trek through it or just ensure that the main page looks good if they choose to look at it. \n",
    "* Do you think I am more so focused on backend development as well? Should I take some time to make side projects in something that I am interested in that focus on showcasing skills. \n",
    "* I code in Python and C++ mainly, which do you think is more valuable? Is it worth taking the time to focus on being a machine learning engineer? \n",
    "* Is it worth adding Class experience i.e cpsc 222 data science lab/ 223 advanced data structures and algorithms.\n",
    "* Any other tips to make my linkedin look more appealing?  "
   ]
  },
  {
   "cell_type": "markdown",
   "metadata": {},
   "source": [
    "* May as well market myself as fullstack \n",
    "  * Resume first, linkedin second\n",
    "* Might as well flesh it out\n",
    "* Time and energy into framing previous 3 in linkedin \n",
    "  * Interview Prep\n",
    "\n",
    "* When talking about projects: \n",
    "  * The STAR method: \n",
    "    * S: Situation (they did X and Y I did Z)\n",
    "    * T: Task (What did I specifically do/ needs to happen to solve problem)\n",
    "    * A: Action ( What I did to solve it. )\n",
    "    * R: Results (numerics are best, feedback)\n",
    "    * Learned/ Do differently\n",
    "* Currently located in spokane but open to roles in other areas\n",
    "  * Where are you working now, what sets you apart in the industry\n",
    "* Concise, degree in x with experience in ... \n",
    "  * Theoretical underpinnings cut\n",
    "  * Make it more suscint \n",
    "  * Through my time and school and prior work exepereience I focused on python work, c++ for system level programming and development \n",
    "* Focus on being a fullstack engineer \n",
    "  * Alter last paragraph\n",
    "  \n",
    "\n",
    "Think Through STAR Framework here as well\n",
    "- Worked in a group project, my role was x\n",
    "- I prototyped UI in FIGMA. cut after bringing UI to life with REACTJS\n",
    "\n",
    "\n",
    "  > Finished: \n",
    "\n",
    "\n",
    "* Change Title: Aspiring Engineer | Focus in ML / AI\n",
    "- ZAG AI Project is not clear as being the same as the one under experience\n",
    "  - For clarity, remove it from featured section and add zag ai link to experience. \n",
    "    - rather them read through experience and click on those links\n",
    "\n",
    "- Pangeon: Senior Capstone Project \n",
    "\n",
    "Resume: \n",
    "- Currently located in Spokane, open to other locations/opps \n",
    "- Make it consistent with LinkedIn \n",
    "- Cut second bullet on Gonzaga Research, use STAR method as well. tasks that you did and the results that you had. Met all project deadlines and delivered a high-quality user experience.\n",
    "  - Adapted quickly to learn new coding language in order to accelerate development of the chatbot. \n",
    "- Add more machine learning items to resume \n",
    "  \n"
   ]
  },
  {
   "cell_type": "markdown",
   "metadata": {},
   "source": [
    "Example Kaila Snyder: \n",
    "👋 I’m Kaila, a design leader who loves solving complex problems and creating products that benefit people.\n",
    "Currently @Microsoft with 9+ yrs experience. I’m collaborative, strategic, and data-informed, with a knack for facilitating and creating shared understanding. I love creating impactful, high-quality products and building a team & culture that supports everyone doing their best work.\n",
    "I’ve worked on scaling teams & design systems, built mobile, web, & desktop apps (25+) and I live in moody 🌦 Seattle, WA.\n",
    "Previously Tyler Technologies, IBM      View resume\n",
    "Microsoft – Cloud, Computers, Apps & Gaming\n",
    "Explore Microsoft products and services for your home or business. Shop Surface, Microsoft 365, Xbox, Windows, Azure, and more. Find downloads and get support."
   ]
  },
  {
   "cell_type": "markdown",
   "metadata": {},
   "source": []
  },
  {
   "cell_type": "markdown",
   "metadata": {},
   "source": []
  }
 ],
 "metadata": {
  "language_info": {
   "name": "python"
  }
 },
 "nbformat": 4,
 "nbformat_minor": 2
}
