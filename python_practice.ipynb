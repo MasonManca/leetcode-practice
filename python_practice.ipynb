{
 "cells": [
  {
   "cell_type": "markdown",
   "metadata": {},
   "source": [
    "### <center>  Python Practice </center>\n"
   ]
  },
  {
   "cell_type": "code",
   "execution_count": 1,
   "metadata": {},
   "outputs": [
    {
     "name": "stdout",
     "output_type": "stream",
     "text": [
      "['Python', 'is', 'a', 'fun', 'programming', 'language']\n",
      "['a', 'b', 'c', 'd']\n",
      "Number of occurrence of p: 4\n",
      "True\n",
      "-1\n",
      "False\n",
      "True\n"
     ]
    },
    {
     "ename": "NameError",
     "evalue": "name 'string' is not defined",
     "output_type": "error",
     "traceback": [
      "\u001b[0;31m---------------------------------------------------------------------------\u001b[0m",
      "\u001b[0;31mNameError\u001b[0m                                 Traceback (most recent call last)",
      "Cell \u001b[0;32mIn[1], line 41\u001b[0m\n\u001b[1;32m     38\u001b[0m \u001b[38;5;28mprint\u001b[39m(name\u001b[38;5;241m.\u001b[39misalpha()) \u001b[38;5;66;03m#output true\u001b[39;00m\n\u001b[1;32m     40\u001b[0m \u001b[38;5;66;03m# other important functions\u001b[39;00m\n\u001b[0;32m---> 41\u001b[0m \u001b[43mstring\u001b[49m\u001b[38;5;241m.\u001b[39mstrip([chars]) \u001b[38;5;66;03m#The strip() method returns a copy of the string by removing both the leading and the trailing characters (based on the string argument passed).\u001b[39;00m\n\u001b[1;32m     42\u001b[0m string\u001b[38;5;241m.\u001b[39mupper() \u001b[38;5;66;03m# The upper() method converts all lowercase characters in a string into uppercase characters and returns it.\u001b[39;00m\n\u001b[1;32m     43\u001b[0m string\u001b[38;5;241m.\u001b[39mlower() \u001b[38;5;66;03m# The lower() method converts all uppercase characters in a string into lowercase characters and returns it.\u001b[39;00m\n",
      "\u001b[0;31mNameError\u001b[0m: name 'string' is not defined"
     ]
    }
   ],
   "source": [
    "# ** split Function **\n",
    "# The split() method breaks up a string at the specified separator and returns\n",
    "# a list of strings.\n",
    "text = 'Python is a fun programming language'\n",
    "\n",
    "# split the text from space\n",
    "print(text.split(' '))\n",
    "# Output: ['Python', 'is', 'a', 'fun', 'programming', 'language']\n",
    "\n",
    "# convert string to list\n",
    "s=\"abcd\"\n",
    "s=list(s)\n",
    "print(s)\n",
    "# Output: ['a', 'b', 'c', 'd']\n",
    "\n",
    "# ** count Function **\n",
    "# The count() method returns the number of occurrences of a substring in the given string.\n",
    "# Example\n",
    "message = 'python is popular programming language'\n",
    "# number of occurrence of 'p'\n",
    "print('Number of occurrence of p:', message.count('p')) # Output: Number of occurrence of p: 4\n",
    "\n",
    "# The isnumeric() method returns True if all characters in a string are numeric characters. If not, it returns False.\n",
    "s = '1242323'\n",
    "print(s.isnumeric()) #Output: True\n",
    "\n",
    "# The find() method returns the index of first occurrence of the substring (if found). If not found, it returns -1.\n",
    "# check the index of 'fun'\n",
    "print(message.find('fun')) # Output: 12\n",
    "\n",
    "# The isalnum() method returns True if all characters in the string are alphanumeric (either alphabets or numbers). If not, it returns False.\n",
    "\n",
    "name = \"M3onica Gell22er \"\n",
    "print(name.isalnum()) # Output : False\n",
    "\n",
    "# The isalpha() method returns True if all characters in the string are alphabets. If not, it returns False\n",
    "name = \"Monica\"\n",
    "print(name.isalpha()) #output true\n",
    "\n",
    "# other important functions\n",
    "string.strip([chars]) #The strip() method returns a copy of the string by removing both the leading and the trailing characters (based on the string argument passed).\n",
    "string.upper() # The upper() method converts all lowercase characters in a string into uppercase characters and returns it.\n",
    "string.lower() # The lower() method converts all uppercase characters in a string into lowercase characters and returns it.\n",
    "string.islower() # The islower() method returns True if all cased characters in the string are lowercase and there is at least one cased character, False otherwise.\n",
    "string.isdigit() \n",
    "string.isupper() # The isupper() method returns True if all cased characters in the string are uppercase and there is at least one cased character, False otherwise."
   ]
  }
 ],
 "metadata": {
  "kernelspec": {
   "display_name": "Python 3",
   "language": "python",
   "name": "python3"
  },
  "language_info": {
   "codemirror_mode": {
    "name": "ipython",
    "version": 3
   },
   "file_extension": ".py",
   "mimetype": "text/x-python",
   "name": "python",
   "nbconvert_exporter": "python",
   "pygments_lexer": "ipython3",
   "version": "3.11.5"
  }
 },
 "nbformat": 4,
 "nbformat_minor": 2
}
