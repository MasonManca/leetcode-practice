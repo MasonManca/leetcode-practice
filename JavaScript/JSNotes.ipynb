{
 "cells": [
  {
   "cell_type": "markdown",
   "metadata": {},
   "source": [
    "## JS Studying"
   ]
  },
  {
   "cell_type": "markdown",
   "metadata": {},
   "source": [
    "```javascript\n",
    "/**\n",
    " * @return {Function}\n",
    " */\n",
    "var createHelloWorld = function() {\n",
    "    \n",
    "    return function(...args) {\n",
    "        return \"Hello World\";\n",
    "    }\n",
    "};\n",
    "\n",
    "function CreateF(){\n",
    "    function f(a,b) {\n",
    "        const sum = a + b;\n",
    "        return sum;\n",
    "    }\n",
    "    return f;\n",
    "}\n",
    "const f = (a,b) => {\n",
    "\n",
    "}\n",
    "// const f = function(a,b)\n",
    "function f(a,b) {\n",
    "    const sum = a + b;\n",
    "    return sum;\n",
    "}\n",
    "console.log(f(1,3));\n",
    "```"
   ]
  },
  {
   "cell_type": "markdown",
   "metadata": {},
   "source": [
    "```js\n",
    "function createAdder(a) {\n",
    "  return function add(b) {\n",
    "    const sum = a + b;\n",
    "    return sum;\n",
    "  }\n",
    "}\n",
    "const addTo2 = createAdder(2);\n",
    "addTo2(5); // 7\n",
    "```\n",
    "* Spread operator: ...\n",
    "  * expands values in an iterable\n",
    "  * used for concatonating\n",
    "  * factory functions\n",
    "    * return new function, higher order functions\n",
    "    * ex:\n",
    "``` js\n",
    "let a = [1,2]\n",
    "let b = [3,4]\n",
    "console.log([...a,...b])\n",
    "```"
   ]
  },
  {
   "cell_type": "markdown",
   "metadata": {},
   "source": [
    "#### To be or not to be:\n",
    "```js\n",
    "var expect = function(val) {\n",
    "    return{\n",
    "    toBe: (n) => {\n",
    "       if(n === val){\n",
    "        return true;\n",
    "       }\n",
    "       else throw Error(\"Not Equal\")\n",
    "    },\n",
    "    notToBe: (n) => {\n",
    "       if(n !== val){\n",
    "        return true;\n",
    "       }\n",
    "       else throw Error(\"Equal\")\n",
    "    }\n",
    "    }\n",
    "};\n",
    "\n",
    "```"
   ]
  },
  {
   "cell_type": "markdown",
   "metadata": {},
   "source": [
    "### Transform over elements in array\n",
    "\n",
    "```js\n",
    "var map = function(arr, fn) {\n",
    " return arr.map(fn); // iterates and applies function to each element in array\n",
    "\n",
    "// Note: const just means no reassignment, can call methods still\n",
    "};\n",
    "\n",
    "var map = function(arr,fn) {\n",
    "    const res = new Array(arr.length);\n",
    "\n",
    "    for(const i in arr){\n",
    "        res[i] = fn(arr[i], Number(i));\n",
    "    } // the in keyword iterates through keys/indexes which are strings\n",
    "    return res;\n",
    "}\n",
    "// passing function into another function is apart of the strategy design pattern\n",
    "```"
   ]
  },
  {
   "cell_type": "markdown",
   "metadata": {},
   "source": [
    "### Filter Elements from Array:\n",
    "- Given an integer array arr and a filtering function fn, return a filtered array filteredArr.\n",
    "\n",
    "- The fn function takes one or two arguments:\n",
    "\n",
    "- arr[i] - number from the arr\n",
    "- i - index of arr[i]\n",
    "- filteredArr should only contain the elements from the arr for which the expression fn(arr[i], i) evaluates to a truthy value. A truthy value is a value where Boolean(value) returns true.\n",
    "```js\n",
    "\n",
    "var filter = function(arr,fn){\n",
    "    return arr.filter(fn);\n",
    "};\n",
    "var filter = function(arr,fn){\n",
    "    const filteredArr = [];\n",
    "\n",
    "    for(const i in arr){\n",
    "        if(fn(arr[i],Number(i))){\n",
    "            filteredArr.push(arr[i]);\n",
    "        }\n",
    "    }\n",
    "    return filteredArr;\n",
    "};\n",
    "\n",
    "```"
   ]
  },
  {
   "cell_type": "markdown",
   "metadata": {},
   "source": [
    "### Function Composition\n",
    "```js\n",
    "var compose = function(functions) {\n",
    "    return function(x) {\n",
    "\n",
    "        for(let i = functions.length -1; i >= 0; i--){\n",
    "            x = functions[i](x);\n",
    "    }\n",
    "    return x;\n",
    "    }\n",
    "};\n",
    "\n",
    "var compose = function(functions) {\n",
    "    const fn = (acc,f) => f(acc);\n",
    "    return function(x) {\n",
    "       return return functions.reduceRight(fn, x)\n",
    " // reduce Right iterates from end of array\n",
    " // \n",
    "    }\n",
    "}\n",
    "```\n"
   ]
  }
 ],
 "metadata": {
  "language_info": {
   "name": "python"
  }
 },
 "nbformat": 4,
 "nbformat_minor": 2
}
